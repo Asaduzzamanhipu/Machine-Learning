{
 "cells": [
  {
   "cell_type": "code",
   "execution_count": 8,
   "id": "f5a94204",
   "metadata": {},
   "outputs": [],
   "source": [
    "import numpy as np\n",
    "from sklearn.datasets import make_classification\n",
    "from sklearn.model_selection import train_test_split\n",
    "import pandas as pd"
   ]
  },
  {
   "cell_type": "code",
   "execution_count": 9,
   "id": "1ed2cb03",
   "metadata": {},
   "outputs": [],
   "source": [
    "X,y=make_classification(n_samples=1000,n_features=20,n_classes=2 )"
   ]
  },
  {
   "cell_type": "code",
   "execution_count": 10,
   "id": "d0f1e757",
   "metadata": {},
   "outputs": [
    {
     "data": {
      "text/plain": [
       "array([[ 0.13518707, -0.78496792,  1.49029979, ..., -0.16627301,\n",
       "         0.32593843, -0.40634247],\n",
       "       [ 1.48234532,  1.31362546, -0.0322562 , ...,  0.60625958,\n",
       "         0.3855518 ,  1.26530186],\n",
       "       [-0.15344895, -0.96495823, -0.76111176, ...,  1.69450068,\n",
       "         0.45349986,  0.79624078],\n",
       "       ...,\n",
       "       [-0.6001645 ,  0.66373694, -1.52730929, ...,  0.44756676,\n",
       "        -0.63465526, -0.68125186],\n",
       "       [-0.81422306, -0.42042596,  0.57022623, ...,  0.44973179,\n",
       "        -0.3065751 , -1.85491889],\n",
       "       [-2.06107384,  0.02083041, -0.12751101, ...,  0.30806146,\n",
       "         0.13092013, -1.84714708]])"
      ]
     },
     "execution_count": 10,
     "metadata": {},
     "output_type": "execute_result"
    }
   ],
   "source": [
    "X"
   ]
  },
  {
   "cell_type": "code",
   "execution_count": 11,
   "id": "5ebe7f78",
   "metadata": {},
   "outputs": [
    {
     "data": {
      "text/html": [
       "<div>\n",
       "<style scoped>\n",
       "    .dataframe tbody tr th:only-of-type {\n",
       "        vertical-align: middle;\n",
       "    }\n",
       "\n",
       "    .dataframe tbody tr th {\n",
       "        vertical-align: top;\n",
       "    }\n",
       "\n",
       "    .dataframe thead th {\n",
       "        text-align: right;\n",
       "    }\n",
       "</style>\n",
       "<table border=\"1\" class=\"dataframe\">\n",
       "  <thead>\n",
       "    <tr style=\"text-align: right;\">\n",
       "      <th></th>\n",
       "      <th>0</th>\n",
       "      <th>1</th>\n",
       "      <th>2</th>\n",
       "      <th>3</th>\n",
       "      <th>4</th>\n",
       "      <th>5</th>\n",
       "      <th>6</th>\n",
       "      <th>7</th>\n",
       "      <th>8</th>\n",
       "      <th>9</th>\n",
       "      <th>10</th>\n",
       "      <th>11</th>\n",
       "      <th>12</th>\n",
       "      <th>13</th>\n",
       "      <th>14</th>\n",
       "      <th>15</th>\n",
       "      <th>16</th>\n",
       "      <th>17</th>\n",
       "      <th>18</th>\n",
       "      <th>19</th>\n",
       "    </tr>\n",
       "  </thead>\n",
       "  <tbody>\n",
       "    <tr>\n",
       "      <th>0</th>\n",
       "      <td>0.135187</td>\n",
       "      <td>-0.784968</td>\n",
       "      <td>1.490300</td>\n",
       "      <td>1.067455</td>\n",
       "      <td>0.071555</td>\n",
       "      <td>1.341114</td>\n",
       "      <td>0.664497</td>\n",
       "      <td>0.733499</td>\n",
       "      <td>-0.705646</td>\n",
       "      <td>-0.279239</td>\n",
       "      <td>-1.574319</td>\n",
       "      <td>2.034827</td>\n",
       "      <td>0.848453</td>\n",
       "      <td>-1.360707</td>\n",
       "      <td>-0.343739</td>\n",
       "      <td>-1.650664</td>\n",
       "      <td>0.645278</td>\n",
       "      <td>-0.166273</td>\n",
       "      <td>0.325938</td>\n",
       "      <td>-0.406342</td>\n",
       "    </tr>\n",
       "    <tr>\n",
       "      <th>1</th>\n",
       "      <td>1.482345</td>\n",
       "      <td>1.313625</td>\n",
       "      <td>-0.032256</td>\n",
       "      <td>0.383068</td>\n",
       "      <td>-1.034471</td>\n",
       "      <td>0.657207</td>\n",
       "      <td>1.095816</td>\n",
       "      <td>1.173902</td>\n",
       "      <td>-1.062394</td>\n",
       "      <td>1.458023</td>\n",
       "      <td>0.128999</td>\n",
       "      <td>1.435934</td>\n",
       "      <td>2.602780</td>\n",
       "      <td>-0.507863</td>\n",
       "      <td>0.850687</td>\n",
       "      <td>-1.940128</td>\n",
       "      <td>0.003134</td>\n",
       "      <td>0.606260</td>\n",
       "      <td>0.385552</td>\n",
       "      <td>1.265302</td>\n",
       "    </tr>\n",
       "    <tr>\n",
       "      <th>2</th>\n",
       "      <td>-0.153449</td>\n",
       "      <td>-0.964958</td>\n",
       "      <td>-0.761112</td>\n",
       "      <td>-0.355923</td>\n",
       "      <td>1.067045</td>\n",
       "      <td>1.316566</td>\n",
       "      <td>1.253957</td>\n",
       "      <td>1.346203</td>\n",
       "      <td>-0.193534</td>\n",
       "      <td>1.294857</td>\n",
       "      <td>-0.322041</td>\n",
       "      <td>1.798651</td>\n",
       "      <td>-0.269548</td>\n",
       "      <td>-1.080249</td>\n",
       "      <td>0.221302</td>\n",
       "      <td>-0.836472</td>\n",
       "      <td>1.796099</td>\n",
       "      <td>1.694501</td>\n",
       "      <td>0.453500</td>\n",
       "      <td>0.796241</td>\n",
       "    </tr>\n",
       "    <tr>\n",
       "      <th>3</th>\n",
       "      <td>-0.182513</td>\n",
       "      <td>0.987438</td>\n",
       "      <td>-1.317567</td>\n",
       "      <td>1.051662</td>\n",
       "      <td>-0.649912</td>\n",
       "      <td>-0.352391</td>\n",
       "      <td>-1.859267</td>\n",
       "      <td>-1.956981</td>\n",
       "      <td>1.408092</td>\n",
       "      <td>-1.198133</td>\n",
       "      <td>-0.186688</td>\n",
       "      <td>-0.566715</td>\n",
       "      <td>-0.960567</td>\n",
       "      <td>0.149152</td>\n",
       "      <td>1.899251</td>\n",
       "      <td>1.050426</td>\n",
       "      <td>0.923225</td>\n",
       "      <td>-1.032491</td>\n",
       "      <td>-0.506176</td>\n",
       "      <td>1.092675</td>\n",
       "    </tr>\n",
       "    <tr>\n",
       "      <th>4</th>\n",
       "      <td>-1.386480</td>\n",
       "      <td>0.907117</td>\n",
       "      <td>-0.249991</td>\n",
       "      <td>0.540652</td>\n",
       "      <td>0.027493</td>\n",
       "      <td>-0.518884</td>\n",
       "      <td>-0.509413</td>\n",
       "      <td>-0.555902</td>\n",
       "      <td>-0.073805</td>\n",
       "      <td>-0.056362</td>\n",
       "      <td>-0.561034</td>\n",
       "      <td>-1.215373</td>\n",
       "      <td>0.058608</td>\n",
       "      <td>1.093602</td>\n",
       "      <td>-1.459846</td>\n",
       "      <td>0.034386</td>\n",
       "      <td>-0.333512</td>\n",
       "      <td>0.008149</td>\n",
       "      <td>-0.222596</td>\n",
       "      <td>1.520187</td>\n",
       "    </tr>\n",
       "  </tbody>\n",
       "</table>\n",
       "</div>"
      ],
      "text/plain": [
       "         0         1         2         3         4         5         6   \\\n",
       "0  0.135187 -0.784968  1.490300  1.067455  0.071555  1.341114  0.664497   \n",
       "1  1.482345  1.313625 -0.032256  0.383068 -1.034471  0.657207  1.095816   \n",
       "2 -0.153449 -0.964958 -0.761112 -0.355923  1.067045  1.316566  1.253957   \n",
       "3 -0.182513  0.987438 -1.317567  1.051662 -0.649912 -0.352391 -1.859267   \n",
       "4 -1.386480  0.907117 -0.249991  0.540652  0.027493 -0.518884 -0.509413   \n",
       "\n",
       "         7         8         9         10        11        12        13  \\\n",
       "0  0.733499 -0.705646 -0.279239 -1.574319  2.034827  0.848453 -1.360707   \n",
       "1  1.173902 -1.062394  1.458023  0.128999  1.435934  2.602780 -0.507863   \n",
       "2  1.346203 -0.193534  1.294857 -0.322041  1.798651 -0.269548 -1.080249   \n",
       "3 -1.956981  1.408092 -1.198133 -0.186688 -0.566715 -0.960567  0.149152   \n",
       "4 -0.555902 -0.073805 -0.056362 -0.561034 -1.215373  0.058608  1.093602   \n",
       "\n",
       "         14        15        16        17        18        19  \n",
       "0 -0.343739 -1.650664  0.645278 -0.166273  0.325938 -0.406342  \n",
       "1  0.850687 -1.940128  0.003134  0.606260  0.385552  1.265302  \n",
       "2  0.221302 -0.836472  1.796099  1.694501  0.453500  0.796241  \n",
       "3  1.899251  1.050426  0.923225 -1.032491 -0.506176  1.092675  \n",
       "4 -1.459846  0.034386 -0.333512  0.008149 -0.222596  1.520187  "
      ]
     },
     "execution_count": 11,
     "metadata": {},
     "output_type": "execute_result"
    }
   ],
   "source": [
    "pd.DataFrame(X).head()"
   ]
  },
  {
   "cell_type": "code",
   "execution_count": 12,
   "id": "ef033ad8",
   "metadata": {},
   "outputs": [],
   "source": [
    "X_train, X_test, y_train, y_test=train_test_split(X,y,test_size=.30, random_state=2)"
   ]
  },
  {
   "cell_type": "code",
   "execution_count": 13,
   "id": "db34d551",
   "metadata": {},
   "outputs": [
    {
     "data": {
      "text/plain": [
       "(700, 20)"
      ]
     },
     "execution_count": 13,
     "metadata": {},
     "output_type": "execute_result"
    }
   ],
   "source": [
    "X_train.shape"
   ]
  },
  {
   "cell_type": "code",
   "execution_count": 14,
   "id": "61cc4eb1",
   "metadata": {},
   "outputs": [
    {
     "data": {
      "text/plain": [
       "(300, 20)"
      ]
     },
     "execution_count": 14,
     "metadata": {},
     "output_type": "execute_result"
    }
   ],
   "source": [
    "X_test.shape"
   ]
  },
  {
   "cell_type": "code",
   "execution_count": 16,
   "id": "10193076",
   "metadata": {},
   "outputs": [
    {
     "data": {
      "text/plain": [
       "(700,)"
      ]
     },
     "execution_count": 16,
     "metadata": {},
     "output_type": "execute_result"
    }
   ],
   "source": [
    "y_train.shape"
   ]
  },
  {
   "cell_type": "code",
   "execution_count": 17,
   "id": "5d645ab4",
   "metadata": {},
   "outputs": [
    {
     "data": {
      "text/plain": [
       "(300,)"
      ]
     },
     "execution_count": 17,
     "metadata": {},
     "output_type": "execute_result"
    }
   ],
   "source": [
    "y_test.shape"
   ]
  },
  {
   "cell_type": "code",
   "execution_count": null,
   "id": "fd95558f",
   "metadata": {},
   "outputs": [],
   "source": []
  }
 ],
 "metadata": {
  "kernelspec": {
   "display_name": "Python 3 (ipykernel)",
   "language": "python",
   "name": "python3"
  },
  "language_info": {
   "codemirror_mode": {
    "name": "ipython",
    "version": 3
   },
   "file_extension": ".py",
   "mimetype": "text/x-python",
   "name": "python",
   "nbconvert_exporter": "python",
   "pygments_lexer": "ipython3",
   "version": "3.11.7"
  }
 },
 "nbformat": 4,
 "nbformat_minor": 5
}
