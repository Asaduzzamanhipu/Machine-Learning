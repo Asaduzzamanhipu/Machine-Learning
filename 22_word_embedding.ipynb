{
  "nbformat": 4,
  "nbformat_minor": 0,
  "metadata": {
    "colab": {
      "provenance": [],
      "authorship_tag": "ABX9TyONigJRbgNIa8zxjx3A7ME6",
      "include_colab_link": true
    },
    "kernelspec": {
      "name": "python3",
      "display_name": "Python 3"
    },
    "language_info": {
      "name": "python"
    }
  },
  "cells": [
    {
      "cell_type": "markdown",
      "metadata": {
        "id": "view-in-github",
        "colab_type": "text"
      },
      "source": [
        "<a href=\"https://colab.research.google.com/github/Asaduzzamanhipu/Machine-Learning/blob/main/22_word_embedding.ipynb\" target=\"_parent\"><img src=\"https://colab.research.google.com/assets/colab-badge.svg\" alt=\"Open In Colab\"/></a>"
      ]
    },
    {
      "cell_type": "code",
      "execution_count": 2,
      "metadata": {
        "id": "pteyA60r7iNe"
      },
      "outputs": [],
      "source": [
        "import numpy as np\n",
        "from tensorflow.keras.preprocessing.text import one_hot\n",
        "from tensorflow.keras.preprocessing.sequence import pad_sequences\n",
        "from tensorflow.keras.models import Sequential\n",
        "from tensorflow.keras.layers import Dense, Flatten, Embedding"
      ]
    },
    {
      "cell_type": "code",
      "source": [
        "sentences=['not bad',\n",
        "           'too good',\n",
        "           'delicious',\n",
        "           'that is okay',\n",
        "           'not so good!','just yamma',\n",
        "           'what a dish!',\n",
        "           'too simple']\n",
        "\n",
        "\n"
      ],
      "metadata": {
        "id": "QL77Qxes8aLl"
      },
      "execution_count": 3,
      "outputs": []
    },
    {
      "cell_type": "code",
      "source": [
        "sentiment=np.array([1, 1, 1 , 1, 0,1, 1, 0])"
      ],
      "metadata": {
        "id": "fa-NsgbC9N40"
      },
      "execution_count": 4,
      "outputs": []
    },
    {
      "cell_type": "code",
      "source": [
        "one_hot(\"what a dish!\", 50)"
      ],
      "metadata": {
        "colab": {
          "base_uri": "https://localhost:8080/"
        },
        "id": "m4IixbyU9cz_",
        "outputId": "61f485cf-c365-4d46-9bc0-5784ee6e1568"
      },
      "execution_count": 5,
      "outputs": [
        {
          "output_type": "execute_result",
          "data": {
            "text/plain": [
              "[38, 46, 21]"
            ]
          },
          "metadata": {},
          "execution_count": 5
        }
      ]
    },
    {
      "cell_type": "code",
      "source": [
        "vocab_size=50\n",
        "encoded_sentences=[one_hot(i, vocab_size) for i in sentences]\n",
        "print(encoded_sentences)"
      ],
      "metadata": {
        "colab": {
          "base_uri": "https://localhost:8080/"
        },
        "id": "0AmUzB5N9paO",
        "outputId": "5e4a772d-3505-4334-dd51-d6231031e710"
      },
      "execution_count": 6,
      "outputs": [
        {
          "output_type": "stream",
          "name": "stdout",
          "text": [
            "[[44, 15], [49, 24], [36], [26, 1, 14], [44, 8, 24], [45, 25], [38, 46, 21], [49, 49]]\n"
          ]
        }
      ]
    },
    {
      "cell_type": "markdown",
      "source": [],
      "metadata": {
        "id": "P4RrqUb5-mAC"
      }
    },
    {
      "cell_type": "code",
      "source": [
        "## Since there are different simensions. So we to padding it"
      ],
      "metadata": {
        "id": "chzpsutJ-Sw_"
      },
      "execution_count": 7,
      "outputs": []
    },
    {
      "cell_type": "code",
      "source": [
        "max_length=4\n",
        "padded_sentences=pad_sequences(encoded_sentences, maxlen=max_length, padding='post')"
      ],
      "metadata": {
        "id": "FRBRFvnl-nDh"
      },
      "execution_count": 8,
      "outputs": []
    },
    {
      "cell_type": "code",
      "source": [
        "padded_sentences"
      ],
      "metadata": {
        "colab": {
          "base_uri": "https://localhost:8080/"
        },
        "id": "mTB-rXXv_Bxz",
        "outputId": "acfdf150-e887-4de4-b8dc-bbf66729e5c3"
      },
      "execution_count": 9,
      "outputs": [
        {
          "output_type": "execute_result",
          "data": {
            "text/plain": [
              "array([[44, 15,  0,  0],\n",
              "       [49, 24,  0,  0],\n",
              "       [36,  0,  0,  0],\n",
              "       [26,  1, 14,  0],\n",
              "       [44,  8, 24,  0],\n",
              "       [45, 25,  0,  0],\n",
              "       [38, 46, 21,  0],\n",
              "       [49, 49,  0,  0]], dtype=int32)"
            ]
          },
          "metadata": {},
          "execution_count": 9
        }
      ]
    },
    {
      "cell_type": "code",
      "source": [
        "embedded_vector_size=10\n",
        "model=Sequential()\n",
        "model.add(Embedding(vocab_size, embedded_vector_size, input_length=max_length, name='embedding'))\n",
        "model.add(Flatten())\n",
        "model.add(Dense(1, activation='sigmoid'))"
      ],
      "metadata": {
        "colab": {
          "base_uri": "https://localhost:8080/"
        },
        "id": "FdZJ_dC8_D3C",
        "outputId": "cc4d77d9-2f66-4e65-9038-f89df58447b3"
      },
      "execution_count": 15,
      "outputs": [
        {
          "output_type": "stream",
          "name": "stderr",
          "text": [
            "/usr/local/lib/python3.11/dist-packages/keras/src/layers/core/embedding.py:90: UserWarning: Argument `input_length` is deprecated. Just remove it.\n",
            "  warnings.warn(\n"
          ]
        }
      ]
    },
    {
      "cell_type": "code",
      "source": [
        "x=padded_sentences\n",
        "y=sentiment"
      ],
      "metadata": {
        "id": "j4mGMKySAT3y"
      },
      "execution_count": 16,
      "outputs": []
    },
    {
      "cell_type": "code",
      "source": [
        "model.compile(optimizer='adam', loss='binary_crossentropy', metrics=['accuracy'])\n",
        "#model.summary()"
      ],
      "metadata": {
        "id": "5dzBGah4AgJh"
      },
      "execution_count": 17,
      "outputs": []
    },
    {
      "cell_type": "code",
      "source": [
        "model.fit(x,y, epochs=50, verbose=0)"
      ],
      "metadata": {
        "colab": {
          "base_uri": "https://localhost:8080/"
        },
        "id": "QqNHBxlxA2On",
        "outputId": "0702cf5a-a998-4037-822e-00029cf2385c"
      },
      "execution_count": 18,
      "outputs": [
        {
          "output_type": "execute_result",
          "data": {
            "text/plain": [
              "<keras.src.callbacks.history.History at 0x7be54e417b90>"
            ]
          },
          "metadata": {},
          "execution_count": 18
        }
      ]
    },
    {
      "cell_type": "code",
      "source": [
        "loss, accuracy=model.evaluate(x,y)"
      ],
      "metadata": {
        "colab": {
          "base_uri": "https://localhost:8080/"
        },
        "id": "6JIWhET_BT70",
        "outputId": "9900faad-995a-4ff5-9748-3705b9aa9e3c"
      },
      "execution_count": 19,
      "outputs": [
        {
          "output_type": "stream",
          "name": "stdout",
          "text": [
            "\u001b[1m1/1\u001b[0m \u001b[32m━━━━━━━━━━━━━━━━━━━━\u001b[0m\u001b[37m\u001b[0m \u001b[1m0s\u001b[0m 233ms/step - accuracy: 0.8750 - loss: 0.5513\n"
          ]
        }
      ]
    },
    {
      "cell_type": "code",
      "source": [
        "accuracy"
      ],
      "metadata": {
        "colab": {
          "base_uri": "https://localhost:8080/"
        },
        "id": "HdlWG7nrB9sX",
        "outputId": "497f3fc1-fd72-4bb2-c5f6-2abb28b92272"
      },
      "execution_count": 20,
      "outputs": [
        {
          "output_type": "execute_result",
          "data": {
            "text/plain": [
              "0.875"
            ]
          },
          "metadata": {},
          "execution_count": 20
        }
      ]
    },
    {
      "cell_type": "code",
      "source": [],
      "metadata": {
        "id": "8qimGXLTCABH"
      },
      "execution_count": null,
      "outputs": []
    }
  ]
}