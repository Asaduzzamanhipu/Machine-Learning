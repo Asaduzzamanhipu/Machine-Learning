{
 "cells": [
  {
   "cell_type": "code",
   "execution_count": 31,
   "id": "5d78a623",
   "metadata": {},
   "outputs": [],
   "source": [
    "from sklearn.preprocessing import LabelEncoder"
   ]
  },
  {
   "cell_type": "code",
   "execution_count": 38,
   "id": "8c9d388c",
   "metadata": {},
   "outputs": [],
   "source": [
    "classes=['classA','classB','classC','classD','classE']\n",
    "instances=['classA','classB','classC','classD','classE','classA','classB','classC','classD','classE''classA','classB','classC']\n",
    "label_encoder=LabelEncoder()"
   ]
  },
  {
   "cell_type": "code",
   "execution_count": 39,
   "id": "647bea96",
   "metadata": {},
   "outputs": [],
   "source": [
    "encoded_labels=label_encoder.fit_transform(instances)"
   ]
  },
  {
   "cell_type": "code",
   "execution_count": 40,
   "id": "db1d5d02",
   "metadata": {},
   "outputs": [
    {
     "name": "stdout",
     "output_type": "stream",
     "text": [
      "Label Encoder: [0 1 2 3 4 0 1 2 3 5 1 2]\n"
     ]
    }
   ],
   "source": [
    "print('Label Encoder:',encoded_labels)"
   ]
  },
  {
   "cell_type": "code",
   "execution_count": 41,
   "id": "149e91c9",
   "metadata": {},
   "outputs": [
    {
     "name": "stdout",
     "output_type": "stream",
     "text": [
      "Original labels: ['classA' 'classB' 'classC' 'classD' 'classE' 'classA' 'classB' 'classC'\n",
      " 'classD' 'classEclassA' 'classB' 'classC']\n"
     ]
    }
   ],
   "source": [
    "#original_lables=label_encoder.inverse_transfrom(encoded_labels)\n",
    "original=label_encoder.inverse_transform(encoded_labels)\n",
    "\n",
    "print('Original labels:',original)"
   ]
  },
  {
   "cell_type": "code",
   "execution_count": 42,
   "id": "992131ef",
   "metadata": {},
   "outputs": [],
   "source": [
    "from sklearn.preprocessing import LabelEncoder"
   ]
  },
  {
   "cell_type": "code",
   "execution_count": 29,
   "id": "c4b98950",
   "metadata": {},
   "outputs": [
    {
     "name": "stdout",
     "output_type": "stream",
     "text": [
      "Encoded labels: [0 1 2 3 4 1 2 3 4 1 2]\n"
     ]
    }
   ],
   "source": [
    "label_encoder = LabelEncoder()\n",
    "encoded_labels = label_encoder.fit_transform(instances)\n",
    "\n",
    "print(\"Encoded labels:\", encoded_labels)"
   ]
  },
  {
   "cell_type": "code",
   "execution_count": null,
   "id": "c3665313",
   "metadata": {},
   "outputs": [],
   "source": []
  },
  {
   "cell_type": "code",
   "execution_count": 30,
   "id": "a96ca0f1",
   "metadata": {},
   "outputs": [
    {
     "name": "stdout",
     "output_type": "stream",
     "text": [
      "Encoded labels: [0 1 2 3 4 1 2 3 4 1 2]\n",
      "Original labels: ['classA' 'classB' 'classC' 'classD' 'classEclassA' 'classB' 'classC'\n",
      " 'classD' 'classEclassA' 'classB' 'classC']\n"
     ]
    }
   ],
   "source": [
    "original_labels = label_encoder.inverse_transform(encoded_labels)\n",
    "\n",
    "print(\"Encoded labels:\", encoded_labels)\n",
    "print(\"Original labels:\", original_labels)"
   ]
  },
  {
   "cell_type": "code",
   "execution_count": null,
   "id": "ad330fb4",
   "metadata": {},
   "outputs": [],
   "source": []
  }
 ],
 "metadata": {
  "kernelspec": {
   "display_name": "Python 3 (ipykernel)",
   "language": "python",
   "name": "python3"
  },
  "language_info": {
   "codemirror_mode": {
    "name": "ipython",
    "version": 3
   },
   "file_extension": ".py",
   "mimetype": "text/x-python",
   "name": "python",
   "nbconvert_exporter": "python",
   "pygments_lexer": "ipython3",
   "version": "3.11.7"
  }
 },
 "nbformat": 4,
 "nbformat_minor": 5
}
